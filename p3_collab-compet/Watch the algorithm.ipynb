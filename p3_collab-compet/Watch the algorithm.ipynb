{
 "cells": [
  {
   "cell_type": "markdown",
   "metadata": {},
   "source": [
    "# Watch the Agent Perform\n",
    "\n",
    "** Still in progress**"
   ]
  },
  {
   "cell_type": "code",
   "execution_count": null,
   "metadata": {},
   "outputs": [],
   "source": [
    "from unityagents import UnityEnvironment\n",
    "import numpy as np\n",
    "\n",
    "env = UnityEnvironment(file_name=\"Tennis_Linux/Tennis.x86_64\")\n",
    "\n",
    "# get the default brain\n",
    "brain_name = env.brain_names[0]\n",
    "brain = env.brains[brain_name]\n",
    "\n",
    "# reset the environment\n",
    "env_info = env.reset(train_mode=True)[brain_name]\n",
    "\n",
    "# number of agents \n",
    "num_agents = len(env_info.agents)\n",
    "print('Number of agents:', num_agents)\n",
    "\n",
    "# size of each action\n",
    "action_size = brain.vector_action_space_size\n",
    "print('Size of each action:', action_size)\n",
    "\n",
    "# examine the state space \n",
    "states = env_info.vector_observations\n",
    "state_size = states.shape[1]\n",
    "print('There are {} agents. Each observes a state with length: {}'.format(states.shape[0], state_size))\n",
    "print('The state for the first agent looks like:', states[0])\n",
    "\n",
    "agents = []\n",
    "# initiatise agents\n",
    "for i in range(num_agents):\n",
    "    agents.append(Agent(state_size, action_size, num_agents = 1, random_seed=0))\n",
    "\n",
    "agent_num = 0\n",
    "for agent in agents:\n",
    "    agent.actor_local.load_state_dict(torch.load('checkpoint_actor_' + str(agent_num) + '.pth', map_location='cpu'))\n",
    "    agent.critic_local.load_state_dict(torch.load('checkpoint_critic_' + str(agent_num) + '.pth', map_location='cpu'))\n",
    "    agent_num += 1\n",
    "    \n",
    "episodes = 1\n",
    "for i in range(episodes):\n",
    "    \n",
    "    act_0 = agents[0].act(states, add_noise=False)\n",
    "    act_1 = agents[1].act(states, add_noise=False)       \n",
    "    actions = np.hstack((agent_actions[0], agent_actions[1]))\n",
    "    env_info = env.step(actions)[brain_name]        \n",
    "    next_states = env_info.vector_observations        \n",
    "    rewards = env_info.rewards                        \n",
    "    dones = env_info.local_done                 \n",
    "    states = next_states                              \n",
    "    if np.any(dones):                              \n",
    "        break\n",
    "\n"
   ]
  },
  {
   "cell_type": "code",
   "execution_count": null,
   "metadata": {},
   "outputs": [],
   "source": [
    "env.close()"
   ]
  }
 ],
 "metadata": {
  "kernelspec": {
   "display_name": "Python 3",
   "language": "python",
   "name": "python3"
  },
  "language_info": {
   "codemirror_mode": {
    "name": "ipython",
    "version": 3
   },
   "file_extension": ".py",
   "mimetype": "text/x-python",
   "name": "python",
   "nbconvert_exporter": "python",
   "pygments_lexer": "ipython3",
   "version": "3.6.3"
  }
 },
 "nbformat": 4,
 "nbformat_minor": 2
}

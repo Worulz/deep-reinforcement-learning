{
 "cells": [
  {
   "cell_type": "markdown",
   "metadata": {},
   "source": [
    "# Collaboration and Competition\n",
    "\n",
    "---\n",
    "\n",
    "In this notebook, you will learn how to use the Unity ML-Agents environment for the third project of the [Deep Reinforcement Learning Nanodegree](https://www.udacity.com/course/deep-reinforcement-learning-nanodegree--nd893) program.\n",
    "\n",
    "### 1. Start the Environment\n",
    "\n",
    "We begin by importing the necessary packages.  If the code cell below returns an error, please revisit the project instructions to double-check that you have installed [Unity ML-Agents](https://github.com/Unity-Technologies/ml-agents/blob/master/docs/Installation.md) and [NumPy](http://www.numpy.org/)."
   ]
  },
  {
   "cell_type": "code",
   "execution_count": 1,
   "metadata": {},
   "outputs": [],
   "source": [
    "from unityagents import UnityEnvironment\n",
    "import numpy as np"
   ]
  },
  {
   "cell_type": "markdown",
   "metadata": {},
   "source": [
    "Next, we will start the environment!  **_Before running the code cell below_**, change the `file_name` parameter to match the location of the Unity environment that you downloaded.\n",
    "\n",
    "- **Mac**: `\"path/to/Tennis.app\"`\n",
    "- **Windows** (x86): `\"path/to/Tennis_Windows_x86/Tennis.exe\"`\n",
    "- **Windows** (x86_64): `\"path/to/Tennis_Windows_x86_64/Tennis.exe\"`\n",
    "- **Linux** (x86): `\"path/to/Tennis_Linux/Tennis.x86\"`\n",
    "- **Linux** (x86_64): `\"path/to/Tennis_Linux/Tennis.x86_64\"`\n",
    "- **Linux** (x86, headless): `\"path/to/Tennis_Linux_NoVis/Tennis.x86\"`\n",
    "- **Linux** (x86_64, headless): `\"path/to/Tennis_Linux_NoVis/Tennis.x86_64\"`\n",
    "\n",
    "For instance, if you are using a Mac, then you downloaded `Tennis.app`.  If this file is in the same folder as the notebook, then the line below should appear as follows:\n",
    "```\n",
    "env = UnityEnvironment(file_name=\"Tennis.app\")\n",
    "```"
   ]
  },
  {
   "cell_type": "code",
   "execution_count": 2,
   "metadata": {},
   "outputs": [
    {
     "name": "stderr",
     "output_type": "stream",
     "text": [
      "INFO:unityagents:\n",
      "'Academy' started successfully!\n",
      "Unity Academy name: Academy\n",
      "        Number of Brains: 1\n",
      "        Number of External Brains : 1\n",
      "        Lesson number : 0\n",
      "        Reset Parameters :\n",
      "\t\t\n",
      "Unity brain name: TennisBrain\n",
      "        Number of Visual Observations (per agent): 0\n",
      "        Vector Observation space type: continuous\n",
      "        Vector Observation space size (per agent): 8\n",
      "        Number of stacked Vector Observation: 3\n",
      "        Vector Action space type: continuous\n",
      "        Vector Action space size (per agent): 2\n",
      "        Vector Action descriptions: , \n"
     ]
    }
   ],
   "source": [
    "env = UnityEnvironment(file_name=\"Tennis_Linux_NoVis/Tennis.x86_64\")"
   ]
  },
  {
   "cell_type": "markdown",
   "metadata": {},
   "source": [
    "Environments contain **_brains_** which are responsible for deciding the actions of their associated agents. Here we check for the first brain available, and set it as the default brain we will be controlling from Python."
   ]
  },
  {
   "cell_type": "code",
   "execution_count": 3,
   "metadata": {},
   "outputs": [],
   "source": [
    "# get the default brain\n",
    "brain_name = env.brain_names[0]\n",
    "brain = env.brains[brain_name]"
   ]
  },
  {
   "cell_type": "markdown",
   "metadata": {},
   "source": [
    "### 2. Examine the State and Action Spaces\n",
    "\n",
    "In this environment, two agents control rackets to bounce a ball over a net. If an agent hits the ball over the net, it receives a reward of +0.1.  If an agent lets a ball hit the ground or hits the ball out of bounds, it receives a reward of -0.01.  Thus, the goal of each agent is to keep the ball in play.\n",
    "\n",
    "The observation space consists of 8 variables corresponding to the position and velocity of the ball and racket. Two continuous actions are available, corresponding to movement toward (or away from) the net, and jumping. \n",
    "\n",
    "Run the code cell below to print some information about the environment."
   ]
  },
  {
   "cell_type": "code",
   "execution_count": 4,
   "metadata": {},
   "outputs": [
    {
     "name": "stdout",
     "output_type": "stream",
     "text": [
      "Number of agents: 2\n",
      "Size of each action: 2\n",
      "There are 2 agents. Each observes a state with length: 24\n",
      "The state for the first agent looks like: [ 0.          0.          0.          0.          0.          0.\n",
      "  0.          0.          0.          0.          0.          0.\n",
      "  0.          0.          0.          0.         -6.65278625 -1.5\n",
      " -0.          0.          6.83172083  6.         -0.          0.        ]\n"
     ]
    }
   ],
   "source": [
    "# reset the environment\n",
    "env_info = env.reset(train_mode=True)[brain_name]\n",
    "\n",
    "# number of agents \n",
    "num_agents = len(env_info.agents)\n",
    "print('Number of agents:', num_agents)\n",
    "\n",
    "# size of each action\n",
    "action_size = brain.vector_action_space_size\n",
    "print('Size of each action:', action_size)\n",
    "\n",
    "# examine the state space \n",
    "states = env_info.vector_observations\n",
    "state_size = states.shape[1]\n",
    "print('There are {} agents. Each observes a state with length: {}'.format(states.shape[0], state_size))\n",
    "print('The state for the first agent looks like:', states[0])"
   ]
  },
  {
   "cell_type": "markdown",
   "metadata": {},
   "source": [
    "### 3. Take Random Actions in the Environment\n",
    "\n",
    "In the next code cell, you will learn how to use the Python API to control the agents and receive feedback from the environment.\n",
    "\n",
    "Once this cell is executed, you will watch the agents' performance, if they select actions at random with each time step.  A window should pop up that allows you to observe the agents.\n",
    "\n",
    "Of course, as part of the project, you'll have to change the code so that the agents are able to use their experiences to gradually choose better actions when interacting with the environment!"
   ]
  },
  {
   "cell_type": "code",
   "execution_count": 5,
   "metadata": {},
   "outputs": [],
   "source": [
    "# for i in range(1, 6):                                      # play game for 5 episodes\n",
    "#     env_info = env.reset(train_mode=False)[brain_name]     # reset the environment    \n",
    "#     states = env_info.vector_observations                  # get the current state (for each agent)\n",
    "#     scores = np.zeros(num_agents)                          # initialize the score (for each agent)\n",
    "#     while True:\n",
    "#         actions = np.random.randn(num_agents, action_size) # select an action (for each agent)\n",
    "#         actions = np.clip(actions, -1, 1)                  # all actions between -1 and 1\n",
    "#         env_info = env.step(actions)[brain_name]           # send all actions to tne environment\n",
    "        \n",
    "#         next_states = env_info.vector_observations         # get next state (for each agent)\n",
    "#         rewards = env_info.rewards                         # get reward (for each agent)\n",
    "#         dones = env_info.local_done                        # see if episode finished\n",
    "#         scores += env_info.rewards                         # update the score (for each agent)\n",
    "#         states = next_states                               # roll over states to next time step\n",
    "#         if np.any(dones):                                  # exit loop if episode finished\n",
    "#             break\n",
    "#     print('Score (max over agents) from episode {}: {}'.format(i, np.max(scores)))"
   ]
  },
  {
   "cell_type": "markdown",
   "metadata": {},
   "source": [
    "When finished, you can close the environment."
   ]
  },
  {
   "cell_type": "code",
   "execution_count": 6,
   "metadata": {},
   "outputs": [],
   "source": [
    "#env.close()"
   ]
  },
  {
   "cell_type": "markdown",
   "metadata": {},
   "source": [
    "### 4. It's Your Turn!\n",
    "\n",
    "Now it's your turn to train your own agent to solve the environment!  When training the environment, set `train_mode=True`, so that the line for resetting the environment looks like the following:\n",
    "```python\n",
    "env_info = env.reset(train_mode=True)[brain_name]\n",
    "```"
   ]
  },
  {
   "cell_type": "code",
   "execution_count": 7,
   "metadata": {},
   "outputs": [],
   "source": [
    "# import dependencies \n",
    "from ddpg_agent import Agent\n",
    "from collections import deque\n",
    "import matplotlib.pyplot as plt\n",
    "import torch\n",
    "import time\n",
    "#agent = Agent(state_size=state_size, action_size=action_size, random_seed=0)"
   ]
  },
  {
   "cell_type": "code",
   "execution_count": 8,
   "metadata": {},
   "outputs": [],
   "source": [
    "def ddpg(n_episodes=1000, max_t=1000, print_every=100):\n",
    "    \"\"\"Execute training of Deep Deterministic Policy - DDPQ agent.\n",
    "\n",
    "    Params\n",
    "    ======\n",
    "        n_episodes (int): number of episodes\n",
    "        max_t (int):      maxiumum number of time steps per episode\n",
    "        print_every (int): print every interval\n",
    "        \n",
    "    \"\"\" \n",
    "    scores_overall = []\n",
    "    scores_deque = deque(maxlen=print_every)\n",
    "    agents = []\n",
    "    running_avg = [] # get the mean average score\n",
    "    \n",
    "    # initiatise\n",
    "    for i in range(num_agents):\n",
    "        agents.append(Agent(state_size, action_size, num_agents = 1, random_seed=0))\n",
    "    \n",
    "    for i_episode in range(1, n_episodes+1):\n",
    "        env_info = env.reset(train_mode=True)[brain_name]\n",
    "        states = env_info.vector_observations                # get the current state\n",
    "        states = np.reshape(states, (1,48))                 # reshape observations to dual, for 2 agents\n",
    "    \n",
    "        # reset agents after each episode\n",
    "        for agent in agents:\n",
    "            agent.reset()\n",
    "            \n",
    "        scores = np.zeros(num_agents)\n",
    "        start = time.time()\n",
    "        for t in range(max_t):\n",
    "            agent_actions = []\n",
    "            for agent in agents:\n",
    "                agent_actions.append(agent.act(states, timestep = t))\n",
    "\n",
    "            actions = np.concatenate((agent_actions[0], agent_actions[1]), axis=0)\n",
    "            actions = np.reshape(actions, (1, 4))\n",
    "            env_info = env.step(actions)[brain_name]        # send the action to the environment\n",
    "            next_states = env_info.vector_observations   # get the next state\n",
    "            next_states = np.reshape(next_states, (1, 48)) \n",
    "            \n",
    "            rewards = env_info.rewards                   # get the reward\n",
    "            dones = env_info.local_done                  # see if episode has finished\n",
    "            \n",
    "            num_agent = 0\n",
    "            for agent in agents:\n",
    "                \n",
    "                agent.step(states, actions, rewards[num_agent], next_states, dones, t, num_agent) # take step with agent (including learning)\n",
    "                num_agent += 1\n",
    "            scores += rewards                                # update the score\n",
    "            states = next_states                             # roll over the state to next time step\n",
    "            #import ipdb; ipdb.set_trace()\n",
    "            if np.any(dones):                                       # exit loop if episode finished\n",
    "                break\n",
    "                \n",
    "        score = np.max(scores) # take the max score of the agents\n",
    "        scores_deque.append(score)       # save most recent score\n",
    "        scores_overall.append(score)\n",
    "        running_avg.append(np.mean(scores_deque))\n",
    "        end = time.time()\n",
    "        \n",
    "        print('\\rEpisode {}\\tAverage Score: {:.4f}'.format(i_episode, np.mean(scores_deque)), end=\"\")\n",
    "        print('\\rEpisode {}\\tAverage Score: {:.4f}\\tTime Cost per epi: {:.4f}'.format(i_episode,\n",
    "                                                                                      np.mean(scores_deque), \n",
    "                                                                                      end-start), end=\"\")\n",
    "\n",
    "        if i_episode % print_every == 0:\n",
    "            print('\\rEpisode {}\\tAverage Score: {:.4f}'.format(i_episode, np.mean(scores_deque)))\n",
    "            agent_num = 0\n",
    "            for agent in agents:\n",
    "                torch.save(agent.actor_local.state_dict(), 'checkpoint_actor_' + str(agent_num) + '.pth')\n",
    "                torch.save(agent.critic_local.state_dict(), 'checkpoint_critic_' + str(agent_num) + '.pth')\n",
    "                agent_num += 1\n",
    "        \n",
    "        if np.mean(scores_deque)>=0.5: # 50% win rate?\n",
    "            print('\\nEnvironment solved in {:d} episodes!\\tAverage Score: {:.4f}'.format(i_episode, np.mean(scores_deque)))\n",
    "            agent_num = 0\n",
    "            for agent in agents:\n",
    "                torch.save(agent.actor_local.state_dict(), 'checkpoint_actor_' + str(agent_num) + '.pth')\n",
    "                torch.save(agent.critic_local.state_dict(), 'checkpoint_critic_' + str(agent_num)+ '.pth')\n",
    "                agent_num += 1\n",
    "            break\n",
    "    final_end = time.time()\n",
    "    print(\"Total time taken: {:.2f}\".format(final_end))\n",
    "    return scores_overall, running_avg"
   ]
  },
  {
   "cell_type": "code",
   "execution_count": 9,
   "metadata": {
    "scrolled": false
   },
   "outputs": [
    {
     "name": "stdout",
     "output_type": "stream",
     "text": [
      "Episode 100\tAverage Score: 0.0056\tTime Cost per epi: 0.2599\n",
      "Episode 200\tAverage Score: 0.0140\tTime Cost per epi: 0.2614\n",
      "Episode 300\tAverage Score: 0.0416\tTime Cost per epi: 0.5335\n",
      "Episode 400\tAverage Score: 0.0406\tTime Cost per epi: 0.2654\n",
      "Episode 500\tAverage Score: 0.0508\tTime Cost per epi: 0.2689\n",
      "Episode 600\tAverage Score: 0.0890\tTime Cost per epi: 1.0100\n",
      "Episode 700\tAverage Score: 0.0815\tTime Cost per epi: 0.4615\n",
      "Episode 800\tAverage Score: 0.1074\tTime Cost per epi: 0.2856\n",
      "Episode 900\tAverage Score: 0.0934\tTime Cost per epi: 0.5590\n",
      "Episode 1000\tAverage Score: 0.1013\tTime Cost per epi: 0.4645\n",
      "Episode 1100\tAverage Score: 0.1185\tTime Cost per epi: 0.5471\n",
      "Episode 1200\tAverage Score: 0.1485\tTime Cost per epi: 0.8374\n",
      "Episode 1300\tAverage Score: 0.1603\tTime Cost per epi: 0.7556\n",
      "Episode 1400\tAverage Score: 0.2321\tTime Cost per epi: 1.1219\n",
      "Episode 1500\tAverage Score: 0.1265\tTime Cost per epi: 0.4712\n",
      "Episode 1600\tAverage Score: 0.2429\tTime Cost per epi: 0.8579\n",
      "Episode 1700\tAverage Score: 0.3454\tTime Cost per epi: 2.39561\n",
      "Episode 1786\tAverage Score: 0.5169\tTime Cost per epi: 16.0420\n",
      "Environment solved in 1786 episodes!\tAverage Score: 0.5169\n",
      "Total time taken: 1543324376.68\n"
     ]
    },
    {
     "data": {
      "image/png": "[encoded data removed]",
      "text/plain": [
       "<Figure size 432x288 with 1 Axes>"
      ]
     },
     "metadata": {},
     "output_type": "display_data"
    }
   ],
   "source": [
    "\n",
    "scores, running_avg = ddpg(n_episodes = 3000)\n",
    "\n",
    "fig = plt.figure()\n",
    "ax = fig.add_subplot(111)\n",
    "plt.plot(np.arange(1, len(scores)+1), scores)\n",
    "plt.plot(np.arange(1, len(running_avg)+1), running_avg)\n",
    "\n",
    "plt.ylabel('Score')\n",
    "plt.xlabel('Episode #')\n",
    "plt.show()"
   ]
  },
  {
   "cell_type": "markdown",
   "metadata": {},
   "source": [
    "# Watch the Agent Perform"
   ]
  },
  {
   "cell_type": "code",
   "execution_count": 10,
   "metadata": {},
   "outputs": [],
   "source": [
    "%%script false \n",
    "\n",
    "from unityagents import UnityEnvironment\n",
    "import numpy as np\n",
    "\n",
    "env = UnityEnvironment(file_name=\"Tennis_Linux/Tennis.x86_64\")\n",
    "\n",
    "# get the default brain\n",
    "brain_name = env.brain_names[0]\n",
    "brain = env.brains[brain_name]\n",
    "\n",
    "# reset the environment\n",
    "env_info = env.reset(train_mode=True)[brain_name]\n",
    "\n",
    "# number of agents \n",
    "num_agents = len(env_info.agents)\n",
    "print('Number of agents:', num_agents)\n",
    "\n",
    "# size of each action\n",
    "action_size = brain.vector_action_space_size\n",
    "print('Size of each action:', action_size)\n",
    "\n",
    "# examine the state space \n",
    "states = env_info.vector_observations\n",
    "state_size = states.shape[1]\n",
    "print('There are {} agents. Each observes a state with length: {}'.format(states.shape[0], state_size))\n",
    "print('The state for the first agent looks like:', states[0])\n",
    "\n",
    "agents = []\n",
    "# initiatise agents\n",
    "for i in range(num_agents):\n",
    "    agents.append(Agent(state_size, action_size, num_agents = 1, random_seed=0))\n",
    "\n",
    "agent_num = 0\n",
    "for agent in agents:\n",
    "    agent.actor_local.load_state_dict(torch.load('checkpoint_actor_' + str(agent_num) + '.pth', map_location='cpu'))\n",
    "    agent.critic_local.load_state_dict(torch.load('checkpoint_critic_' + str(agent_num) + '.pth', map_location='cpu'))\n",
    "    agent_num += 1\n",
    "    \n",
    "episodes = 1\n",
    "for i in range(episodes):\n",
    "    \n",
    "    act_0 = agents[0].act(states, add_noise=False)\n",
    "    act_1 = agents[1].act(states, add_noise=False)       \n",
    "    actions = np.concatenate((act_0, act_1), axis=0) \n",
    "    actions = np.reshape(actions, (1, 4))\n",
    "    env_info = env.step(actions)[brain_name]        \n",
    "    next_states = env_info.vector_observations        \n",
    "    next_states = np.reshape(next_states, (1, 48))\n",
    "    rewards = env_info.rewards                        \n",
    "    dones = env_info.local_done                 \n",
    "    states = next_states                              \n",
    "    if np.any(dones):                              \n",
    "        break\n",
    "\n"
   ]
  },
  {
   "cell_type": "code",
   "execution_count": 11,
   "metadata": {},
   "outputs": [],
   "source": [
    "%%script false \n",
    "env.close()"
   ]
  }
 ],
 "metadata": {
  "kernelspec": {
   "display_name": "Python 3",
   "language": "python",
   "name": "python3"
  },
  "language_info": {
   "codemirror_mode": {
    "name": "ipython",
    "version": 3
   },
   "file_extension": ".py",
   "mimetype": "text/x-python",
   "name": "python",
   "nbconvert_exporter": "python",
   "pygments_lexer": "ipython3",
   "version": "3.6.3"
  }
 },
 "nbformat": 4,
 "nbformat_minor": 2
}
